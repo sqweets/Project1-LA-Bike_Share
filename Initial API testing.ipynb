{
 "cells": [
  {
   "cell_type": "code",
   "execution_count": 18,
   "metadata": {},
   "outputs": [
    {
     "name": "stdout",
     "output_type": "stream",
     "text": [
      "{\n",
      "    \"files\": [\n",
      "        {\n",
      "            \"lastModified\": 1533676795000,\n",
      "            \"url\": \"http://auction-api-us.worldofwarcraft.com/auction-data/28bbf0cd5a301205787c3f73f340eb69/auctions.json\"\n",
      "        }\n",
      "    ]\n",
      "}\n"
     ]
    }
   ],
   "source": [
    "# Dependencies and Setup\n",
    "import matplotlib.pyplot as plt\n",
    "import pandas as pd\n",
    "import numpy as np\n",
    "import requests\n",
    "import time\n",
    "import json\n",
    "\n",
    "# Import API key\n",
    "import api_keys\n",
    "\n",
    "# Blizzard API Key\n",
    "api_key = api_keys.api_key\n",
    "\n",
    "# Options string\n",
    "options_string = \"arygos?\"\n",
    "\n",
    "# Starting URL for Weather Map API Call\n",
    "base_url = \"https://us.api.battle.net/wow/auction/data/\" + options_string + \"locale=en_US&apikey=\" + api_key\n",
    "\n",
    "#url = \"https://us.api.battle.net/wow/character/Arygos/Lynette?fields=appearance&locale=en_US&apikey=xnrs9wqm4875r78jqusum2jsgudh9kgr\"\n",
    "\n",
    "wow_data = requests.get(base_url).json()\n",
    "\n",
    "print(json.dumps(wow_data, indent=4, sort_keys=True))"
   ]
  },
  {
   "cell_type": "code",
   "execution_count": null,
   "metadata": {},
   "outputs": [],
   "source": []
  }
 ],
 "metadata": {
  "kernelspec": {
   "display_name": "Python 3",
   "language": "python",
   "name": "python3"
  },
  "language_info": {
   "codemirror_mode": {
    "name": "ipython",
    "version": 3
   },
   "file_extension": ".py",
   "mimetype": "text/x-python",
   "name": "python",
   "nbconvert_exporter": "python",
   "pygments_lexer": "ipython3",
   "version": "3.6.5"
  }
 },
 "nbformat": 4,
 "nbformat_minor": 2
}
